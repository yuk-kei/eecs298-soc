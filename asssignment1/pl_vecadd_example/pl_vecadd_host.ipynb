{
 "cells": [
  {
   "cell_type": "code",
   "execution_count": 64,
   "id": "7716f804",
   "metadata": {},
   "outputs": [],
   "source": [
    "import numpy as np\n",
    "import pynq\n",
    "from pynq import Overlay\n",
    "import time\n",
    "\n",
    "overlay = Overlay(\"/home/xilinx/jupyter_notebooks/test/pl_vecadd_pynq.bit\")\n",
    "\n",
    "vecadd_inst = overlay.pl_vecadd_0"
   ]
  },
  {
   "cell_type": "code",
   "execution_count": 65,
   "id": "d960ae3d",
   "metadata": {},
   "outputs": [
    {
     "data": {
      "text/plain": [
       "377860096"
      ]
     },
     "execution_count": 65,
     "metadata": {},
     "output_type": "execute_result"
    }
   ],
   "source": [
    "array_a = pynq.allocate(shape=(1024,), dtype=np.float32)\n",
    "array_b = pynq.allocate(shape=(1024,), dtype=np.float32)\n",
    "array_c = pynq.allocate(shape=(1024,), dtype=np.float32)\n",
    "\n",
    "\n",
    "for i in range(1024):\n",
    "    array_a[i] = np.float32(i)\n",
    "    array_b[i] = np.float32(i)\n",
    "    array_c[i] = np.float32(-1.0)\n",
    "\n",
    "\n",
    "array_a.sync_to_device()\n",
    "array_b.sync_to_device()\n",
    "array_c.sync_to_device()\n",
    "\n",
    "array_a.physical_address"
   ]
  },
  {
   "cell_type": "code",
   "execution_count": 66,
   "id": "808713aa",
   "metadata": {},
   "outputs": [],
   "source": [
    "# help(vecadd_inst.mmio)\n",
    "vecadd_inst.mmio.write_reg(0x10, array_a.physical_address)\n",
    "vecadd_inst.mmio.write_reg(0x14, 0)\n",
    "vecadd_inst.mmio.write_reg(0x1c, array_b.physical_address)\n",
    "vecadd_inst.mmio.write_reg(0x20, 0)\n",
    "vecadd_inst.mmio.write_reg(0x28, array_c.physical_address)\n",
    "vecadd_inst.mmio.write_reg(0x2c, 0)"
   ]
  },
  {
   "cell_type": "code",
   "execution_count": 67,
   "id": "ae65fda9",
   "metadata": {},
   "outputs": [
    {
     "name": "stdout",
     "output_type": "stream",
     "text": [
      "4\n",
      "4\n",
      "14\n",
      "4\n",
      "accelerator done\n"
     ]
    }
   ],
   "source": [
    "\n",
    "ip_status = vecadd_inst.read(0x00)\n",
    "print(ip_status)\n",
    "\n",
    "\n",
    "ip_status = vecadd_inst.read(0x00)\n",
    "print(ip_status)\n",
    "\n",
    "vecadd_inst.write(0x00, 1)\n",
    "ip_status = vecadd_inst.read(0x00)\n",
    "print(ip_status)\n",
    "while (ip_status == 14):\n",
    "    ip_status = vecadd_inst.read(0x00)\n",
    "    \n",
    "ip_status = vecadd_inst.read(0x00)\n",
    "print(ip_status)\n",
    "print('accelerator done')"
   ]
  },
  {
   "cell_type": "code",
   "execution_count": 68,
   "id": "6b1756d1",
   "metadata": {},
   "outputs": [
    {
     "name": "stdout",
     "output_type": "stream",
     "text": [
      "4\n",
      "[0.000e+00 1.000e+00 2.000e+00 ... 1.021e+03 1.022e+03 1.023e+03]\n",
      "[0.000e+00 1.000e+00 2.000e+00 ... 1.021e+03 1.022e+03 1.023e+03]\n",
      "[0.000e+00 2.000e+00 4.000e+00 ... 2.042e+03 2.044e+03 2.046e+03]\n"
     ]
    }
   ],
   "source": [
    "ip_status = vecadd_inst.read(0x00)\n",
    "print(ip_status)\n",
    "\n",
    "array_a.sync_from_device()\n",
    "array_b.sync_from_device()\n",
    "array_c.sync_from_device()\n",
    "\n",
    "print(array_a)\n",
    "print(array_b)\n",
    "print(array_c)\n"
   ]
  },
  {
   "cell_type": "code",
   "execution_count": null,
   "id": "59a9dde5",
   "metadata": {},
   "outputs": [],
   "source": []
  }
 ],
 "metadata": {
  "kernelspec": {
   "display_name": "Python 3",
   "language": "python",
   "name": "python3"
  },
  "language_info": {
   "codemirror_mode": {
    "name": "ipython",
    "version": 3
   },
   "file_extension": ".py",
   "mimetype": "text/x-python",
   "name": "python",
   "nbconvert_exporter": "python",
   "pygments_lexer": "ipython3",
   "version": "3.8.2"
  }
 },
 "nbformat": 4,
 "nbformat_minor": 5
}
